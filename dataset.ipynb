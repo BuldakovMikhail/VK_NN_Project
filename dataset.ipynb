{
 "cells": [
  {
   "cell_type": "code",
   "execution_count": 25,
   "metadata": {},
   "outputs": [
    {
     "name": "stdout",
     "output_type": "stream",
     "text": [
      "                       image_id                 boxes  labels\n",
      "0    ../Data/UECFOOD100/1/1.jpg  [[0, 143, 370, 486]]       1\n",
      "1  ../Data/UECFOOD100/2/100.jpg   [[23, 0, 293, 227]]       2\n",
      "2\n"
     ]
    }
   ],
   "source": [
    "#show_pkl.py\n",
    " \n",
    "import pickle\n",
    "path='./test.pkl'\n",
    "\t   \n",
    "f=open(path,'rb')\n",
    "data=pickle.load(f)\n",
    " \n",
    "print(data)\n",
    "print(len(data))"
   ]
  },
  {
   "cell_type": "code",
   "execution_count": 31,
   "metadata": {},
   "outputs": [],
   "source": [
    "import pandas as pd"
   ]
  },
  {
   "cell_type": "code",
   "execution_count": 51,
   "metadata": {},
   "outputs": [
    {
     "name": "stdout",
     "output_type": "stream",
     "text": [
      "6\n",
      "621\n",
      "137\n",
      "105\n",
      "113\n",
      "219\n",
      "121\n",
      "108\n",
      "102\n",
      "149\n",
      "234\n",
      "135\n",
      "164\n",
      "131\n",
      "153\n",
      "107\n",
      "164\n",
      "354\n",
      "140\n",
      "113\n",
      "132\n",
      "152\n",
      "138\n",
      "135\n",
      "116\n",
      "116\n",
      "121\n",
      "127\n",
      "103\n",
      "103\n",
      "116\n",
      "729\n",
      "114\n",
      "119\n",
      "113\n",
      "122\n",
      "108\n",
      "114\n",
      "168\n",
      "107\n",
      "106\n",
      "122\n",
      "117\n",
      "105\n",
      "125\n",
      "182\n",
      "151\n",
      "123\n",
      "106\n",
      "103\n",
      "109\n",
      "119\n",
      "155\n",
      "141\n",
      "103\n",
      "110\n",
      "117\n",
      "247\n",
      "136\n",
      "109\n",
      "111\n",
      "118\n",
      "121\n",
      "112\n",
      "108\n",
      "132\n",
      "225\n",
      "148\n",
      "154\n",
      "159\n",
      "110\n",
      "118\n",
      "108\n",
      "110\n",
      "106\n",
      "148\n",
      "112\n",
      "123\n",
      "119\n",
      "101\n",
      "111\n",
      "116\n",
      "127\n",
      "143\n",
      "126\n",
      "116\n",
      "129\n",
      "343\n",
      "110\n",
      "116\n",
      "170\n",
      "118\n",
      "166\n",
      "168\n",
      "112\n",
      "109\n",
      "106\n",
      "127\n",
      "103\n",
      "154\n",
      "139\n"
     ]
    }
   ],
   "source": [
    "import os\n",
    "\n",
    "def get_files_from_directory(directory):\n",
    "    files = [] # создаем пустой список для хранения файлов\n",
    "    boxes = [] # создаем пустой список для bounding boxes\n",
    "    labels = [] # создаем пустой список для названий блюд\n",
    "\n",
    "    # осуществляем итерацию по всем подкаталогам и файлам в указанной директории\n",
    "    for root, dirs, filenames in os.walk(directory):\n",
    "        all_files =   list(map(lambda x: x - 1, filenames.pop(0)))\n",
    "        for filename in filenames:\n",
    "            if filename.endswith(\".jpg\"):\n",
    "                files.append(os.path.join(root, filename)) # добавляем полный путь к файлу в список\n",
    "            if filename == \"bb_info.txt\":\n",
    "                with open(os.path.join(root, filename), 'r') as file:\n",
    "                    line = file.readline()\n",
    "                    while line:\n",
    "                        line = file.readline()\n",
    "                        words = line.split()\n",
    "                        boxes.append(words[1:])\n",
    "\n",
    "    return files, boxes\n",
    "\n",
    "# задаем путь к каталогу, в котором нужно выполнить поиск файлов\n",
    "directory_path = \"./UECFOOD100\"\n",
    "\n",
    "# вызываем функцию для получения списка файлов\n",
    "data = get_files_from_directory(directory_path)\n",
    "\n",
    "#print(data[0])"
   ]
  },
  {
   "cell_type": "code",
   "execution_count": 10,
   "metadata": {},
   "outputs": [],
   "source": [
    "import PIL\n",
    "from PIL import Image, ImageDraw"
   ]
  },
  {
   "cell_type": "code",
   "execution_count": 28,
   "metadata": {},
   "outputs": [],
   "source": [
    "image  =Image.open(file_list[0])\n",
    "image.show()"
   ]
  },
  {
   "cell_type": "code",
   "execution_count": null,
   "metadata": {},
   "outputs": [],
   "source": [
    "annots = pd.DataFrame(data={'image_id':file_list, 'boxes':[[[0, 143, 370, 486]], [[23, 0, 293, 227]]], 'labels':[1, 2]})"
   ]
  },
  {
   "cell_type": "code",
   "execution_count": 5,
   "metadata": {},
   "outputs": [
    {
     "ename": "ModuleNotFoundError",
     "evalue": "No module named 'dataset'",
     "output_type": "error",
     "traceback": [
      "\u001b[1;31m---------------------------------------------------------------------------\u001b[0m",
      "\u001b[1;31mModuleNotFoundError\u001b[0m                       Traceback (most recent call last)",
      "Cell \u001b[1;32mIn[5], line 1\u001b[0m\n\u001b[1;32m----> 1\u001b[0m \u001b[38;5;28;01mfrom\u001b[39;00m \u001b[38;5;21;01mdataset\u001b[39;00m \u001b[38;5;28;01mimport\u001b[39;00m DetectionDataset\n",
      "\u001b[1;31mModuleNotFoundError\u001b[0m: No module named 'dataset'"
     ]
    }
   ],
   "source": [
    "from dataset import DetectionDataset"
   ]
  }
 ],
 "metadata": {
  "kernelspec": {
   "display_name": "Python 3",
   "language": "python",
   "name": "python3"
  },
  "language_info": {
   "codemirror_mode": {
    "name": "ipython",
    "version": 3
   },
   "file_extension": ".py",
   "mimetype": "text/x-python",
   "name": "python",
   "nbconvert_exporter": "python",
   "pygments_lexer": "ipython3",
   "version": "3.11.3"
  }
 },
 "nbformat": 4,
 "nbformat_minor": 2
}
